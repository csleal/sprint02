{
 "cells": [
  {
   "cell_type": "code",
   "execution_count": 103,
   "id": "b76fcf96",
   "metadata": {},
   "outputs": [],
   "source": [
    "#imports\n",
    "import speech_recognition as sr # reconhece a fala\n",
    "from time import ctime # pega detalhes da data"
   ]
  },
  {
   "cell_type": "code",
   "execution_count": 104,
   "id": "93c339c2",
   "metadata": {},
   "outputs": [],
   "source": [
    "#Função para ouvir e reconhecer a fala\n",
    "def ouvir_microfone():\n",
    "    #Habilita o microfone do usuário\n",
    "    microfone = sr.Recognizer()\n",
    "    \n",
    "    #usando o microfone\n",
    "    with sr.Microphone() as source:\n",
    "        \n",
    "        #Chama um algoritmo de reducao de ruidos no som\n",
    "        microfone.adjust_for_ambient_noise(source)\n",
    "        \n",
    "        #Frase para o usuario dizer algo\n",
    "        print(\"Diga alguma coisa: \")\n",
    "        \n",
    "        #Armazena o que foi dito numa variavel\n",
    "        audio = microfone.listen(source)\n",
    "        \n",
    "    try:\n",
    "        \n",
    "        #Passa a variável para o algoritmo reconhecedor de padroes\n",
    "        frase = microfone.recognize_google(audio,language='pt-BR')\n",
    "        \n",
    "        if \"Qual é o seu nome\" in frase:\n",
    "            print('Meu nome é Assistente')\n",
    "        \n",
    "        if \"Que horas são\" in frase:\n",
    "            print(ctime())\n",
    "        \n",
    "        if \"como você está\" in frase:\n",
    "            print(\"Eu estou muito bem, obrigado por perguntar!\")\n",
    "        \n",
    "        if \"meu nome é\" in frase:\n",
    "            nome_da_pessoa = frase.split(\"é\")[-1].strip()\n",
    "            print(f\"Tudo bem, vou lembrar que seu nome é {nome_da_pessoa}\")\n",
    "        \n",
    "        #Retorna a frase pronunciada\n",
    "        #print(\"Você disse: \" + frase)\n",
    "        \n",
    "    #Se nao reconheceu o padrao de fala, exibe a mensagem\n",
    "    except sr.UnkownValueError:\n",
    "        print(\"Não entendi\")\n",
    "        \n",
    "    return frase"
   ]
  },
  {
   "cell_type": "code",
   "execution_count": 105,
   "id": "6bfe9c6b",
   "metadata": {},
   "outputs": [
    {
     "name": "stdout",
     "output_type": "stream",
     "text": [
      "Diga alguma coisa: \n",
      "Tudo bem, vou lembrar que seu nome é João\n"
     ]
    },
    {
     "data": {
      "text/plain": [
       "'meu nome é João'"
      ]
     },
     "execution_count": 105,
     "metadata": {},
     "output_type": "execute_result"
    }
   ],
   "source": [
    "ouvir_microfone()"
   ]
  }
 ],
 "metadata": {
  "kernelspec": {
   "display_name": "Python 3",
   "language": "python",
   "name": "python3"
  },
  "language_info": {
   "codemirror_mode": {
    "name": "ipython",
    "version": 3
   },
   "file_extension": ".py",
   "mimetype": "text/x-python",
   "name": "python",
   "nbconvert_exporter": "python",
   "pygments_lexer": "ipython3",
   "version": "3.9.6"
  }
 },
 "nbformat": 4,
 "nbformat_minor": 5
}
