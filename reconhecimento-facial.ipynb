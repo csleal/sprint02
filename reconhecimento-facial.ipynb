{
 "cells": [
  {
   "cell_type": "code",
   "execution_count": 1,
   "id": "9a168ba9",
   "metadata": {},
   "outputs": [],
   "source": [
    "#imports\n",
    "import cv2"
   ]
  },
  {
   "cell_type": "code",
   "execution_count": 2,
   "id": "1f586a8f",
   "metadata": {},
   "outputs": [],
   "source": [
    "# Classificador baixado diretamente do github do openCV\n",
    "xml_haar_cascade = 'haarcascade_frontalface_alt2.xml' \n",
    "\n",
    "# Carregando classificador\n",
    "faceClassifier = cv2.CascadeClassifier(xml_haar_cascade)\n",
    "\n",
    "# Iniciando a camera\n",
    "capture = cv2.VideoCapture(0)\n",
    "\n",
    "# Definindo o tamanho da imagem de entrada\n",
    "capture.set(cv2.CAP_PROP_FRAME_WIDTH, 320)\n",
    "capture.set(cv2.CAP_PROP_FRAME_WIDTH, 240)\n",
    "\n",
    "while not cv2.waitKey(20) & 0xFF == ord(\"q\"):\n",
    "    ret, frame_color = capture.read()\n",
    "    \n",
    "    gray = cv2.cvtColor(frame_color, cv2.COLOR_BGR2GRAY)\n",
    "    \n",
    "    faces = faceClassifier.detectMultiScale(gray)\n",
    "    \n",
    "    for x, y, w, h in faces:\n",
    "        cv2.rectangle(frame_color, (x, y), (x + w, y + h),(0,0,255), 2 )\n",
    "    \n",
    "    cv2.imshow('color', frame_color)"
   ]
  }
 ],
 "metadata": {
  "kernelspec": {
   "display_name": "Python 3",
   "language": "python",
   "name": "python3"
  },
  "language_info": {
   "codemirror_mode": {
    "name": "ipython",
    "version": 3
   },
   "file_extension": ".py",
   "mimetype": "text/x-python",
   "name": "python",
   "nbconvert_exporter": "python",
   "pygments_lexer": "ipython3",
   "version": "3.9.6"
  }
 },
 "nbformat": 4,
 "nbformat_minor": 5
}
